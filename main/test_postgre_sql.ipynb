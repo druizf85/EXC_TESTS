{
 "cells": [
  {
   "cell_type": "code",
   "execution_count": 1,
   "id": "662dcd5f",
   "metadata": {},
   "outputs": [],
   "source": [
    "from dotenv import load_dotenv\n",
    "import os\n",
    "from sqlalchemy import create_engine\n",
    "import pandas as pd"
   ]
  },
  {
   "cell_type": "code",
   "execution_count": 2,
   "id": "1a0f8851",
   "metadata": {},
   "outputs": [],
   "source": [
    "load_dotenv()\n",
    "\n",
    "host=os.getenv(\"DB_HOST2\")\n",
    "port=os.getenv(\"DB_PORT2\")\n",
    "database=os.getenv(\"DB_NAME2\")\n",
    "user=os.getenv(\"DB_USER2\")\n",
    "password=os.getenv(\"DB_PASS2\")"
   ]
  },
  {
   "cell_type": "code",
   "execution_count": 3,
   "id": "3b2b0508",
   "metadata": {},
   "outputs": [],
   "source": [
    "# Crear el engine con SQLAlchemy\n",
    "engine = create_engine(f'postgresql+psycopg2://{user}:{password}@{host}:{port}/{database}')"
   ]
  },
  {
   "cell_type": "code",
   "execution_count": 4,
   "id": "191146e0",
   "metadata": {},
   "outputs": [
    {
     "name": "stdout",
     "output_type": "stream",
     "text": [
      "✅ Conexión exitosa\n"
     ]
    }
   ],
   "source": [
    "query = \"\"\"\n",
    "SELECT table_name\n",
    "FROM INFORMATION_SCHEMA.TABLES\n",
    "WHERE table_catalog = 'postgres' AND table_schema = 'public'\n",
    "ORDER BY table_name;\n",
    "\"\"\"\n",
    "\n",
    "try:\n",
    "    df = pd.read_sql(query, engine)\n",
    "    print(\"✅ Conexión exitosa\")\n",
    "    # print(df)\n",
    "except Exception as e:\n",
    "    print(\"❌ Error al conectar o ejecutar consulta:\")\n",
    "    print(e)"
   ]
  }
 ],
 "metadata": {
  "kernelspec": {
   "display_name": "Python 3",
   "language": "python",
   "name": "python3"
  },
  "language_info": {
   "codemirror_mode": {
    "name": "ipython",
    "version": 3
   },
   "file_extension": ".py",
   "mimetype": "text/x-python",
   "name": "python",
   "nbconvert_exporter": "python",
   "pygments_lexer": "ipython3",
   "version": "3.12.2"
  }
 },
 "nbformat": 4,
 "nbformat_minor": 5
}
