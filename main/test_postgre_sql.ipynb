{
 "cells": [
  {
   "cell_type": "code",
   "execution_count": 11,
   "id": "662dcd5f",
   "metadata": {},
   "outputs": [],
   "source": [
    "from dotenv import load_dotenv\n",
    "import os\n",
    "from sqlalchemy import create_engine\n",
    "import pandas as pd"
   ]
  },
  {
   "cell_type": "code",
   "execution_count": 12,
   "id": "1a0f8851",
   "metadata": {},
   "outputs": [],
   "source": [
    "load_dotenv()\n",
    "\n",
    "host=os.getenv(\"DB_HOST2\")\n",
    "port=os.getenv(\"DB_PORT2\")\n",
    "database=os.getenv(\"DB_NAME2\")\n",
    "user=os.getenv(\"DB_USER2\")\n",
    "password=os.getenv(\"DB_PASS2\")"
   ]
  },
  {
   "cell_type": "code",
   "execution_count": 13,
   "id": "3b2b0508",
   "metadata": {},
   "outputs": [],
   "source": [
    "# Crear el engine con SQLAlchemy\n",
    "engine = create_engine(f'postgresql+psycopg2://{user}:{password}@{host}:{port}/{database}')"
   ]
  },
  {
   "cell_type": "code",
   "execution_count": 16,
   "id": "191146e0",
   "metadata": {},
   "outputs": [
    {
     "name": "stdout",
     "output_type": "stream",
     "text": [
      "✅ Conexión exitosa. Esquemas disponibles:\n",
      "          schema_name\n",
      "0  information_schema\n",
      "1          pg_catalog\n",
      "2            pg_toast\n",
      "3              public\n"
     ]
    }
   ],
   "source": [
    "# Query para listar esquemas disponibles en la base de datos\n",
    "query = \"\"\"\n",
    "SELECT schema_name\n",
    "FROM information_schema.schemata\n",
    "ORDER BY schema_name;\n",
    "\"\"\"\n",
    "\n",
    "# Ejecutar la consulta\n",
    "try:\n",
    "    df = pd.read_sql(query, engine)\n",
    "    print(\"✅ Conexión exitosa. Esquemas disponibles:\")\n",
    "    print(df)\n",
    "except Exception as e:\n",
    "    print(\"❌ Error al conectar o ejecutar consulta:\")\n",
    "    print(e)"
   ]
  }
 ],
 "metadata": {
  "kernelspec": {
   "display_name": "Python 3",
   "language": "python",
   "name": "python3"
  },
  "language_info": {
   "codemirror_mode": {
    "name": "ipython",
    "version": 3
   },
   "file_extension": ".py",
   "mimetype": "text/x-python",
   "name": "python",
   "nbconvert_exporter": "python",
   "pygments_lexer": "ipython3",
   "version": "3.12.2"
  }
 },
 "nbformat": 4,
 "nbformat_minor": 5
}
